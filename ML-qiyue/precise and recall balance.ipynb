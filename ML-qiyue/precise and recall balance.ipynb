{
 "cells": [
  {
   "cell_type": "code",
   "execution_count": 1,
   "metadata": {},
   "outputs": [],
   "source": [
    "import numpy as np\n",
    "import matplotlib.pyplot as plt"
   ]
  },
  {
   "cell_type": "code",
   "execution_count": 2,
   "metadata": {},
   "outputs": [],
   "source": [
    "from sklearn import datasets\n",
    "\n",
    "digits = datasets.load_digits()\n",
    "X=digits.data\n",
    "y=digits.target.copy()\n",
    "\n",
    "y[digits.target==9] = 1\n",
    "y[digits.target!=9] = 0"
   ]
  },
  {
   "cell_type": "code",
   "execution_count": 3,
   "metadata": {},
   "outputs": [],
   "source": [
    "from sklearn.model_selection import train_test_split\n",
    "X_train, X_test, y_train, y_test = train_test_split(X, y, random_state=666)"
   ]
  },
  {
   "cell_type": "code",
   "execution_count": 7,
   "metadata": {
    "collapsed": true
   },
   "outputs": [
    {
     "name": "stderr",
     "output_type": "stream",
     "text": [
      "C:\\ProgramData\\Anaconda3\\lib\\site-packages\\sklearn\\linear_model\\_logistic.py:940: ConvergenceWarning: lbfgs failed to converge (status=1):\n",
      "STOP: TOTAL NO. of ITERATIONS REACHED LIMIT.\n",
      "\n",
      "Increase the number of iterations (max_iter) or scale the data as shown in:\n",
      "    https://scikit-learn.org/stable/modules/preprocessing.html\n",
      "Please also refer to the documentation for alternative solver options:\n",
      "    https://scikit-learn.org/stable/modules/linear_model.html#logistic-regression\n",
      "  extra_warning_msg=_LOGISTIC_SOLVER_CONVERGENCE_MSG)\n"
     ]
    }
   ],
   "source": [
    "from sklearn.linear_model import LogisticRegression\n",
    "log_reg = LogisticRegression()\n",
    "log_reg.fit(X_train, y_train)\n",
    "y_predict = log_reg.predict(X_test)"
   ]
  },
  {
   "cell_type": "code",
   "execution_count": 8,
   "metadata": {},
   "outputs": [
    {
     "data": {
      "text/plain": [
       "0.8674698795180723"
      ]
     },
     "execution_count": 8,
     "metadata": {},
     "output_type": "execute_result"
    }
   ],
   "source": [
    "from sklearn.metrics import f1_score\n",
    "f1_score(y_test, y_predict)"
   ]
  },
  {
   "cell_type": "code",
   "execution_count": 9,
   "metadata": {},
   "outputs": [
    {
     "data": {
      "text/plain": [
       "array([[403,   2],\n",
       "       [  9,  36]], dtype=int64)"
      ]
     },
     "execution_count": 9,
     "metadata": {},
     "output_type": "execute_result"
    }
   ],
   "source": [
    "from sklearn.metrics import confusion_matrix\n",
    "\n",
    "confusion_matrix(y_test,y_predict)"
   ]
  },
  {
   "cell_type": "code",
   "execution_count": 10,
   "metadata": {},
   "outputs": [
    {
     "data": {
      "text/plain": [
       "0.9473684210526315"
      ]
     },
     "execution_count": 10,
     "metadata": {},
     "output_type": "execute_result"
    }
   ],
   "source": [
    "from sklearn.metrics import precision_score\n",
    "\n",
    "precision_score(y_test, y_predict)"
   ]
  },
  {
   "cell_type": "code",
   "execution_count": 11,
   "metadata": {},
   "outputs": [
    {
     "data": {
      "text/plain": [
       "0.8"
      ]
     },
     "execution_count": 11,
     "metadata": {},
     "output_type": "execute_result"
    }
   ],
   "source": [
    "from sklearn.metrics import recall_score\n",
    "recall_score(y_test,y_predict)"
   ]
  },
  {
   "cell_type": "code",
   "execution_count": 12,
   "metadata": {
    "collapsed": true
   },
   "outputs": [
    {
     "data": {
      "text/plain": [
       "array([-21.39735902, -32.89792508, -16.42183202, -79.82552245,\n",
       "       -48.03146329, -24.1812015 , -44.61422444, -24.24115238,\n",
       "        -1.14364523, -19.00583241, -65.82449096, -50.97241449,\n",
       "       -30.91700758, -45.94946599, -37.36115902, -29.51805983,\n",
       "       -36.92675328, -82.81498317, -37.64207654,  -9.87652655,\n",
       "        -9.27017255, -85.25654474, -16.75128134, -45.342988  ,\n",
       "        -5.0256585 , -48.30303495, -11.65769081, -37.35548299,\n",
       "       -25.08294548, -13.59630121, -16.59292371, -28.78646003,\n",
       "       -34.3700879 , -28.52291759,  -8.11817098,  -4.60782344,\n",
       "       -21.93083601, -21.8795332 , -31.16169503, -23.37107884,\n",
       "       -26.90637802, -62.2373947 , -37.68480436, -66.36543692,\n",
       "       -20.10582081, -16.68015402, -18.16942118, -21.54808353,\n",
       "       -28.96519703, -19.61307004,   2.41717556,   7.72739041,\n",
       "       -34.86772817, -42.71043916, -25.63548126, -34.75408897,\n",
       "        -7.5974242 , -49.51669988, -51.52661277,  19.6644154 ,\n",
       "       -10.10353853, -32.00906095, -11.49936359,  -1.43616681,\n",
       "       -48.69751511, -43.86670963, -24.84069317, -19.6041815 ,\n",
       "       -36.64645621,  -3.52472039,  -4.44859061, -19.21266326,\n",
       "       -20.35695254, -40.89620312, -11.85914774, -32.75374914,\n",
       "       -35.76048375, -28.59361047, -55.41741677, -18.82875056,\n",
       "         4.56971489, -16.46474297, -76.77911214, -58.24278091,\n",
       "       -30.24053064, -29.4228992 , -33.4154987 ,  -8.41719074,\n",
       "       -47.91817868, -65.49824563, -16.91294295, -22.17276542,\n",
       "       -11.28400101, -18.66989914, -69.2268921 , -46.39314249,\n",
       "       -39.4536396 , -35.92937887, -17.72632566, -62.9687928 ,\n",
       "       -16.86072121, -55.14918025, -28.77295245, -68.48423973,\n",
       "       -68.86128101,  -6.50100537, -25.51717202, -38.31813752,\n",
       "       -27.46733734, -15.54465798, -27.47900635, -20.33826442,\n",
       "        12.07523705, -23.09097119, -35.9721347 , -29.87461706,\n",
       "       -68.95963218, -27.32016351, -54.24361565, -24.63032409,\n",
       "       -11.85074089, -47.36752601,  -2.7530907 , -59.69054143,\n",
       "       -30.99097964,  -8.99262884, -70.84058755, -56.98136291,\n",
       "       -20.07369782, -21.50239832, -68.287665  , -18.91251316,\n",
       "       -38.59676576, -57.36416293,  -0.91104323, -22.51722196,\n",
       "       -22.66257747, -29.00382912, -32.77437877, -20.43777768,\n",
       "       -11.35274281,   4.63511267,   6.2676108 ,   1.4893098 ,\n",
       "        -7.63672695, -39.24316498,  12.15810615, -74.54590453,\n",
       "       -75.08829671, -49.9751105 , -11.63437227, -47.61740162,\n",
       "       -75.41569819, -29.90130173, -63.9381792 ,  -7.26236793,\n",
       "        -6.64236856, -18.21742799, -32.47502647, -17.93823937,\n",
       "       -43.32728279, -32.70441586, -34.30258987, -72.7466339 ,\n",
       "       -15.19288051,  11.47867474, -56.41236925,  -6.03788249,\n",
       "       -48.38372619, -16.44477784,  -2.13602489, -11.85789847,\n",
       "       -33.26338769, -51.34914236, -10.38590009, -17.18892587,\n",
       "        -5.2409755 , -25.19847032, -15.70533253,   3.55222143,\n",
       "       -45.03078403, -12.57973361, -25.37721404, -16.57248782,\n",
       "       -22.16908343, -82.49948413,  -5.87931726, -20.26336619,\n",
       "       -20.46612534, -26.81440657, -25.98349701, -40.45720598,\n",
       "       -38.00717281, -26.96348429, -23.75596631, -20.15267587,\n",
       "        -9.6893518 , -19.68143909, -42.50023406, -44.14175583,\n",
       "       -15.65497961, -64.03349992, -24.55565975, -56.3067403 ,\n",
       "       -13.01454427, -29.66375085,   3.89506175, -44.33641878,\n",
       "        -7.91834592,   1.14399635,  -2.82026152, -11.92957386,\n",
       "         7.50899623,  -7.17703231, -46.39367183, -48.65830489,\n",
       "        -4.59818457, -19.05151447, -24.07349104, -48.76390445,\n",
       "       -15.0189606 , -24.92566671, -16.69747235, -18.68186964,\n",
       "       -15.70104506, -16.86667155, -38.53059295, -31.09433542,\n",
       "        -9.38005656, -71.44935348, -22.77056179, -14.43571791,\n",
       "       -23.08055983, -34.32074651,  -0.89002959, -32.74395984,\n",
       "       -11.22214777, -18.67633057,  -8.21322795, -45.4385599 ,\n",
       "       -22.30518247, -62.3979395 , -46.77053637, -65.15374623,\n",
       "       -33.22828506, -23.47366254, -28.50553755, -64.79031303,\n",
       "         1.4535069 ,  -4.09357208, -25.65151228, -22.31978522,\n",
       "       -54.69026068, -16.34179945, -12.07261232, -35.28528087,\n",
       "        -5.74267374, -13.51458755, -72.2869745 ,  -6.16587972,\n",
       "        -1.16633733, -35.57540893, -24.15972887, -68.31786373,\n",
       "        14.76639397, -63.06687357,   9.91152316, -24.14687253,\n",
       "       -32.45854015, -14.39127383, -85.73241506, -12.78190612,\n",
       "         8.99599572, -16.51503521, -36.67714553, -16.51464082,\n",
       "       -19.35588216, -32.58786446,  -5.64263702,   7.68672252,\n",
       "         9.39295462,   5.85746766, -35.64876692, -12.98443535,\n",
       "       -54.42486773, -41.10776156,   5.63102959, -79.48668082,\n",
       "       -15.82477294, -19.23224167, -10.86432484, -42.52314345,\n",
       "       -19.82055454, -15.70346847, -17.99604704, -18.02540041,\n",
       "        -6.75780484, -20.78839203, -16.58194422, -70.42574425,\n",
       "        -9.21153374, -31.70032552, -19.68074631, -21.96328402,\n",
       "       -24.77034111, -16.38598615, -13.36891717, -22.93167591,\n",
       "        11.05955055, -15.37694357, -32.94042659, -13.74836842,\n",
       "       -50.35952708, -20.46078003, -56.27238473, -28.68670808,\n",
       "       -21.86475229, -30.41467985, -69.26133547, -59.3473556 ,\n",
       "        14.34410204,   8.57923873, -25.66679034,   2.74136262,\n",
       "         4.93410608, -19.66873366, -58.82931009, -10.00961669,\n",
       "       -28.80893762, -27.20472364,   6.29113644, -80.47358647,\n",
       "       -34.45847812, -50.29044593, -35.95263356, -48.63513051,\n",
       "       -18.0020142 , -62.34441976,  -3.09738546, -25.26236281,\n",
       "       -64.10537857,  -9.62090005, -21.75768275,  19.90448409,\n",
       "       -18.75267137,  -4.4685752 , -13.15045252, -21.6421284 ,\n",
       "       -43.10122464, -52.10808237, -28.52882135, -14.55498973,\n",
       "        -2.47455573,  -6.12226706,   3.6959432 , -15.00461015,\n",
       "       -40.85696112, -26.64887588,  14.10866037, -17.68981279,\n",
       "        15.18648558, -33.09422108,   5.26426361, -14.27030024,\n",
       "       -53.58640107, -50.03991696, -30.66791247, -38.05086335,\n",
       "       -23.2932941 , -24.69562738, -13.56970074, -22.62075472,\n",
       "       -27.22565575, -19.64636093, -28.17564456, -19.93531785,\n",
       "       -29.84068803, -11.29002788, -17.24423865, -24.03064851,\n",
       "       -24.35631546,  10.39218534, -17.21627535, -38.02329616,\n",
       "       -16.08675919, -37.5810663 , -16.33251753, -69.12490684,\n",
       "       -33.68283825, -43.62756642, -26.60245287, -10.32146764,\n",
       "       -66.36260896, -31.89962462, -45.56336719, -14.5804162 ,\n",
       "       -36.12988538, -14.94849669, -70.02003668, -11.35812174,\n",
       "       -40.86436086, -32.66149501, -19.76702153, -27.5795051 ,\n",
       "       -15.73386404, -31.57899464,  -8.50976425, -21.38057667,\n",
       "       -34.07369708, -11.68424697, -36.42861411, -34.78189387,\n",
       "       -22.22029498,   4.77543555, -21.31543842,  -4.45663106,\n",
       "       -20.82552669, -32.2586145 , -41.12125349, -25.08294474,\n",
       "       -19.76248103, -47.86975896, -30.90473077, -45.56011648,\n",
       "       -71.52233551,  -6.25590541, -32.55976353,   2.27748803,\n",
       "        11.94067804,   7.11661008, -31.36942934, -63.95972372,\n",
       "       -23.78955974,  -5.73710412, -32.42447706, -24.71951386,\n",
       "       -67.7026263 , -32.82964106, -33.60816546, -31.53548804,\n",
       "       -51.97752844, -22.54464331,  -7.74452913, -17.29870263,\n",
       "       -25.78403946, -32.37964422, -29.49032176, -66.43363101,\n",
       "       -45.69989574, -16.05175023])"
      ]
     },
     "execution_count": 12,
     "metadata": {},
     "output_type": "execute_result"
    }
   ],
   "source": [
    "log_reg.decision_function(X_test)"
   ]
  },
  {
   "cell_type": "code",
   "execution_count": 13,
   "metadata": {},
   "outputs": [
    {
     "data": {
      "text/plain": [
       "array([-21.39735902, -32.89792508, -16.42183202, -79.82552245,\n",
       "       -48.03146329, -24.1812015 , -44.61422444, -24.24115238,\n",
       "        -1.14364523, -19.00583241])"
      ]
     },
     "execution_count": 13,
     "metadata": {},
     "output_type": "execute_result"
    }
   ],
   "source": [
    "log_reg.decision_function(X_test)[:10]"
   ]
  },
  {
   "cell_type": "code",
   "execution_count": 14,
   "metadata": {},
   "outputs": [
    {
     "data": {
      "text/plain": [
       "array([0, 0, 0, 0, 0, 0, 0, 0, 0, 0])"
      ]
     },
     "execution_count": 14,
     "metadata": {},
     "output_type": "execute_result"
    }
   ],
   "source": [
    "log_reg.predict(X_test)[:10]"
   ]
  },
  {
   "cell_type": "code",
   "execution_count": 18,
   "metadata": {},
   "outputs": [],
   "source": [
    "decision_scores =log_reg.decision_function(X_test)\n"
   ]
  },
  {
   "cell_type": "code",
   "execution_count": 19,
   "metadata": {},
   "outputs": [
    {
     "data": {
      "text/plain": [
       "-85.73241505716248"
      ]
     },
     "execution_count": 19,
     "metadata": {},
     "output_type": "execute_result"
    }
   ],
   "source": [
    "np.min(decision_scores)"
   ]
  },
  {
   "cell_type": "code",
   "execution_count": 20,
   "metadata": {},
   "outputs": [
    {
     "data": {
      "text/plain": [
       "19.904484094774055"
      ]
     },
     "execution_count": 20,
     "metadata": {},
     "output_type": "execute_result"
    }
   ],
   "source": [
    "np.max(decision_scores)"
   ]
  },
  {
   "cell_type": "code",
   "execution_count": 21,
   "metadata": {},
   "outputs": [],
   "source": [
    "y_predict_2 = np.array(decision_scores >= 5, dtype = \"int\")"
   ]
  },
  {
   "cell_type": "code",
   "execution_count": 23,
   "metadata": {},
   "outputs": [
    {
     "data": {
      "text/plain": [
       "array([[403,   2],\n",
       "       [  9,  36]], dtype=int64)"
      ]
     },
     "execution_count": 23,
     "metadata": {},
     "output_type": "execute_result"
    }
   ],
   "source": [
    "confusion_matrix(y_test, y_predict)"
   ]
  },
  {
   "cell_type": "code",
   "execution_count": 24,
   "metadata": {},
   "outputs": [
    {
     "data": {
      "text/plain": [
       "0.96"
      ]
     },
     "execution_count": 24,
     "metadata": {},
     "output_type": "execute_result"
    }
   ],
   "source": [
    "precision_score(y_test, y_predict_2)"
   ]
  },
  {
   "cell_type": "code",
   "execution_count": 25,
   "metadata": {},
   "outputs": [
    {
     "data": {
      "text/plain": [
       "0.5333333333333333"
      ]
     },
     "execution_count": 25,
     "metadata": {},
     "output_type": "execute_result"
    }
   ],
   "source": [
    "recall_score(y_test,y_predict_2)"
   ]
  },
  {
   "cell_type": "code",
   "execution_count": 29,
   "metadata": {},
   "outputs": [],
   "source": [
    "y_predict_3 = np.array(decision_scores >= -5, dtype = \"int\")"
   ]
  },
  {
   "cell_type": "code",
   "execution_count": 30,
   "metadata": {},
   "outputs": [
    {
     "data": {
      "text/plain": [
       "array([[390,  15],\n",
       "       [  5,  40]], dtype=int64)"
      ]
     },
     "execution_count": 30,
     "metadata": {},
     "output_type": "execute_result"
    }
   ],
   "source": [
    "confusion_matrix(y_test, y_predict_3)"
   ]
  },
  {
   "cell_type": "code",
   "execution_count": 31,
   "metadata": {},
   "outputs": [
    {
     "data": {
      "text/plain": [
       "0.7272727272727273"
      ]
     },
     "execution_count": 31,
     "metadata": {},
     "output_type": "execute_result"
    }
   ],
   "source": [
    "precision_score(y_test, y_predict_3)"
   ]
  },
  {
   "cell_type": "code",
   "execution_count": 32,
   "metadata": {},
   "outputs": [
    {
     "data": {
      "text/plain": [
       "0.8888888888888888"
      ]
     },
     "execution_count": 32,
     "metadata": {},
     "output_type": "execute_result"
    }
   ],
   "source": [
    "recall_score(y_test,y_predict_3)"
   ]
  },
  {
   "cell_type": "code",
   "execution_count": null,
   "metadata": {},
   "outputs": [],
   "source": []
  }
 ],
 "metadata": {
  "kernelspec": {
   "display_name": "Python 3",
   "language": "python",
   "name": "python3"
  },
  "language_info": {
   "codemirror_mode": {
    "name": "ipython",
    "version": 3
   },
   "file_extension": ".py",
   "mimetype": "text/x-python",
   "name": "python",
   "nbconvert_exporter": "python",
   "pygments_lexer": "ipython3",
   "version": "3.7.6"
  }
 },
 "nbformat": 4,
 "nbformat_minor": 4
}
